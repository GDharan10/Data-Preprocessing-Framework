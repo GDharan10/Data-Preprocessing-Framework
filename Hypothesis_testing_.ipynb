{
  "nbformat": 4,
  "nbformat_minor": 0,
  "metadata": {
    "colab": {
      "provenance": [],
      "authorship_tag": "ABX9TyNeQ5UGRKBNyV4pknDSyaCg",
      "include_colab_link": true
    },
    "kernelspec": {
      "name": "python3",
      "display_name": "Python 3"
    },
    "language_info": {
      "name": "python"
    }
  },
  "cells": [
    {
      "cell_type": "markdown",
      "metadata": {
        "id": "view-in-github",
        "colab_type": "text"
      },
      "source": [
        "<a href=\"https://colab.research.google.com/github/GDharan10/Dataset0_DataPreprocessingFramework/blob/main/Hypothesis_testing_.ipynb\" target=\"_parent\"><img src=\"https://colab.research.google.com/assets/colab-badge.svg\" alt=\"Open In Colab\"/></a>"
      ]
    },
    {
      "cell_type": "markdown",
      "source": [
        "# **Hypothesis testing / Statistical analysis**"
      ],
      "metadata": {
        "id": "rLLbyBAWx8ae"
      }
    },
    {
      "cell_type": "markdown",
      "source": [
        "Continuous - Central Limit Theorem, 1-Tailed Test (one-sample t-test)\n",
        "\n",
        "Continuous vs. Continuous - Correlation, 2-Tailed Test (two-sample t-test)\n",
        "\n",
        "Continuous vs. Categorical - ANOVA (Analysis of Variance)\n",
        "\n",
        "Categorical vs. Categorical - Chi-Square Test"
      ],
      "metadata": {
        "id": "C4PjxGuLx-CG"
      }
    },
    {
      "cell_type": "code",
      "execution_count": null,
      "metadata": {
        "id": "lSHTZQVWx0u0"
      },
      "outputs": [],
      "source": [
        "def hypothesisTesting(df, continuous_columns = [], category_columns = [], sampling_rate = 0.20, sampling_frac=0.05):\n",
        "  df = df\n",
        "  #Central Limit Theorem\n",
        "  oneContinesColumn_result = {}\n",
        "  hypothesis_df = pd.DataFrame(columns=df.columns, index=df.columns)\n",
        "  if continuous_columns:\n",
        "    samplesize = int(sampling_rate * len(df[continuous_columns[0]]))\n",
        "    for column in continuous_columns:\n",
        "      population=df[column].values\n",
        "      population_mean = population.mean()\n",
        "      sample_mean=[]\n",
        "      for i in range(40):\n",
        "        sample=np.random.choice(population,samplesize)\n",
        "        sample_mean.append(sample.mean())\n",
        "      oneContinesColumn_result[column] = {\n",
        "                                          \"Population Mean\": population_mean,\n",
        "                                          \"Sample Means\": {np.mean(sample_mean)}\n",
        "                                          }\n",
        "\n",
        "  #1-Tailed Test\n",
        "  if continuous_columns:\n",
        "    samplesize = int(sampling_rate * len(df[continuous_columns[0]]))\n",
        "    for column in continuous_columns:\n",
        "      H0_accepted = 0\n",
        "      H0_rejected = 0\n",
        "      for i in range(samplesize):\n",
        "        sample=df[column].sample(frac=sampling_frac)\n",
        "        t_test,p_value=stats.ttest_1samp(sample,df[column].mean())\n",
        "        if p_value > 0.5:\n",
        "          H0_accepted += 1\n",
        "        else:\n",
        "          H0_rejected += 1\n",
        "\n",
        "      if H0_accepted > H0_rejected:\n",
        "          oneContinesColumn_result[column].update( {\n",
        "                                            \"H0_accepted\": H0_accepted,\n",
        "                                            \"H0_rejected\": H0_rejected,\n",
        "                                            \"Conclusion\": \"H0 is accepted, Ha is rejected, There is no significant effect\"\n",
        "                                          } )\n",
        "          hypothesis_df[column][column] = \"There is a relationship\"\n",
        "\n",
        "      else:\n",
        "          oneContinesColumn_result[column].update( {\n",
        "                                              \"H0_accepted\": H0_accepted,\n",
        "                                              \"H0_rejected\": H0_rejected,\n",
        "                                              \"Conclusion\": \"H0 is rejected, Ha is accepted, There is a significant effect\"\n",
        "                                              } )\n",
        "          hypothesis_df[column][column] = \"There is no relationship\"\n",
        "\n",
        "\n",
        "  #2-Tailed Test\n",
        "  for i in range(len(continuous_columns) - 1):\n",
        "      column_1 = continuous_columns[i]\n",
        "      for column_2 in continuous_columns[i+1:]:\n",
        "        H0_accepted = 0\n",
        "        H0_rejected = 0\n",
        "        for i in range(20):\n",
        "          sample1 = df[column_1].sample(frac=sampling_frac)\n",
        "          sample2 = df[column_2].sample(frac=sampling_frac)\n",
        "          t_test, p_value = stats.ttest_ind(sample1, sample2)\n",
        "          if p_value > 0.5:\n",
        "            H0_accepted += 1\n",
        "          else:\n",
        "            H0_rejected += 1\n",
        "\n",
        "        if H0_accepted > H0_rejected:\n",
        "          #H0 is accepted, Ha is rejected, There is no significant effect. \"H0_accepted\": H0_accepted, \"H0_rejected\": H0_rejected\n",
        "          hypothesis_df[column_1][column_2] = \"There is a relationship\"\n",
        "          hypothesis_df[column_2][column_1] = \"There is a relationship\"\n",
        "        else:\n",
        "          #H0 is rejected, Ha is accepted, There is a significant effect. \"H0_accepted\": H0_accepted, \"H0_rejected\": H0_rejected\n",
        "            hypothesis_df[column_1][column_2] = \"There is no relationship\"\n",
        "            hypothesis_df[column_2][column_1] = \"There is no relationship\"\n",
        "\n",
        "  #Chi-Square Test\n",
        "  if category_columns:\n",
        "    for i in range(len(category_columns) - 1):\n",
        "        column_1 = category_columns[i]\n",
        "        for column_2 in category_columns[i + 1:]:\n",
        "            data = pd.crosstab(df[column_1], df[column_2])\n",
        "            observed_values = data.values\n",
        "            chi2_stat, p_value, _, _ = stats.chi2_contingency(observed_values)\n",
        "\n",
        "            if p_value > 0.05:\n",
        "                # H0 is accepted, There is no relationship between two columns we're comparing\n",
        "                hypothesis_df[column_1][column_2] = \"There is no relationship\"\n",
        "                hypothesis_df[column_2][column_1] = \"There is no relationship\"\n",
        "            else:\n",
        "                # H0 is rejected, There is a relationship between two columns we're comparing\n",
        "                hypothesis_df[column_1][column_2] = \"There is a relationship\"\n",
        "                hypothesis_df[column_2][column_1] = \"There is a relationship\"\n",
        "\n",
        "  #ANOVA\n",
        "  if continuous_columns and category_columns:\n",
        "    for category_column in category_columns:\n",
        "      for continuous_column in continuous_columns:\n",
        "        group = df[category_column].unique()\n",
        "        data = {}\n",
        "        for i in group:\n",
        "          data[i]=df[continuous_column][df[category_column]==i]\n",
        "\n",
        "        f_value, p_value = stats.f_oneway(*[data[i] for i in group])\n",
        "        if p_value > 0.05:\n",
        "            # H0 is accepted, There is a relationship between two columns we're comparing\n",
        "            hypothesis_df[category_column][continuous_column] = \"There is a relationship\"\n",
        "            hypothesis_df[continuous_column][category_column] = \"There is a relationship\"\n",
        "        else:\n",
        "            # H0 is rejected, There is no relationship between two columns we're comparing\n",
        "            hypothesis_df[category_column][continuous_column] = \"There is no relationship\"\n",
        "            hypothesis_df[continuous_column][category_column] = \"There is no relationship\"\n",
        "\n",
        "  return oneContinesColumn_result, hypothesis_df"
      ]
    },
    {
      "cell_type": "code",
      "source": [
        "ContinesColumn_result, comperativeColumn_result = hypothesisTesting(df, continuous_columns , category_columns)"
      ],
      "metadata": {
        "id": "6VKo-79ZyWlW"
      },
      "execution_count": null,
      "outputs": []
    },
    {
      "cell_type": "code",
      "source": [
        "def CentralLimitTheorem(df, continuous_columns, sampling_rate = 0.20):\n",
        "  df = df\n",
        "  #Central Limit Theorem\n",
        "  oneContinesColumn_result = {}\n",
        "  if continuous_columns:\n",
        "    samplesize = int(sampling_rate * len(df[continuous_columns[0]]))\n",
        "    for column in continuous_columns:\n",
        "      population=df[column].values\n",
        "      population_mean = population.mean()\n",
        "      sample_mean=[]\n",
        "      for i in range(40):\n",
        "        sample=np.random.choice(population,samplesize)\n",
        "        sample_mean.append(sample.mean())\n",
        "      oneContinesColumn_result[column] = {\n",
        "                                          \"Population Mean\": population_mean,\n",
        "                                          \"Sample Means\": {np.mean(sample_mean)}\n",
        "                                          }\n",
        "  return oneContinesColumn_result"
      ],
      "metadata": {
        "id": "0cNMWDL-yZJf"
      },
      "execution_count": null,
      "outputs": []
    },
    {
      "cell_type": "code",
      "source": [
        "def OneTailTest(df, ContinesColumn_result, continuous_columns = [], sampling_rate = 0.20, sampling_frac=0.05):\n",
        "  df = df\n",
        "  oneContinesColumn_result = ContinesColumn_result\n",
        "  hypothesis_df = pd.DataFrame(columns=df.columns, index=df.columns)\n",
        "  #1-Tailed Test\n",
        "  if continuous_columns:\n",
        "    samplesize = int(sampling_rate * len(df[continuous_columns[0]]))\n",
        "    for column in continuous_columns:\n",
        "      H0_accepted = 0\n",
        "      H0_rejected = 0\n",
        "      for i in range(samplesize):\n",
        "        sample=df[column].sample(frac=sampling_frac)\n",
        "        t_test,p_value=stats.ttest_1samp(sample,df[column].mean())\n",
        "        if p_value > 0.5:\n",
        "          H0_accepted += 1\n",
        "        else:\n",
        "          H0_rejected += 1\n",
        "\n",
        "      if H0_accepted > H0_rejected:\n",
        "          oneContinesColumn_result[column].update( {\n",
        "                                            \"H0_accepted\": H0_accepted,\n",
        "                                            \"H0_rejected\": H0_rejected,\n",
        "                                            \"Conclusion\": \"H0 is accepted, Ha is rejected, There is no significant effect\"\n",
        "                                          } )\n",
        "          hypothesis_df[column][column] = \"There is a relationship\"\n",
        "\n",
        "      else:\n",
        "          oneContinesColumn_result[column].update( {\n",
        "                                              \"H0_accepted\": H0_accepted,\n",
        "                                              \"H0_rejected\": H0_rejected,\n",
        "                                              \"Conclusion\": \"H0 is rejected, Ha is accepted, There is a significant effect\"\n",
        "                                              } )\n",
        "          hypothesis_df[column][column] = \"There is no relationship\"\n",
        "  return oneContinesColumn_result, hypothesis_df"
      ],
      "metadata": {
        "id": "1sPj_-mgycYW"
      },
      "execution_count": null,
      "outputs": []
    },
    {
      "cell_type": "code",
      "source": [
        "def TwoTailTest(df, comperativeColumn_result, continuous_columns = [], sampling_rate = 0.20, sampling_frac=0.05):\n",
        "  df = df\n",
        "  hypothesis_df = comperativeColumn_result\n",
        "  #2-Tailed Test\n",
        "  for i in range(len(continuous_columns) - 1):\n",
        "      column_1 = continuous_columns[i]\n",
        "      for column_2 in continuous_columns[i+1:]:\n",
        "        H0_accepted = 0\n",
        "        H0_rejected = 0\n",
        "        for i in range(20):\n",
        "          sample1 = df[column_1].sample(frac=sampling_frac)\n",
        "          sample2 = df[column_2].sample(frac=sampling_frac)\n",
        "          t_test, p_value = stats.ttest_ind(sample1, sample2)\n",
        "          if p_value > 0.5:\n",
        "            H0_accepted += 1\n",
        "          else:\n",
        "            H0_rejected += 1\n",
        "\n",
        "        if H0_accepted > H0_rejected:\n",
        "          #H0 is accepted, Ha is rejected, There is no significant effect. \"H0_accepted\": H0_accepted, \"H0_rejected\": H0_rejected\n",
        "          hypothesis_df[column_1][column_2] = \"There is a relationship\"\n",
        "          hypothesis_df[column_2][column_1] = \"There is a relationship\"\n",
        "        else:\n",
        "          #H0 is rejected, Ha is accepted, There is a significant effect. \"H0_accepted\": H0_accepted, \"H0_rejected\": H0_rejected\n",
        "            hypothesis_df[column_1][column_2] = \"There is no relationship\"\n",
        "            hypothesis_df[column_2][column_1] = \"There is no relationship\"\n",
        "  return hypothesis_df"
      ],
      "metadata": {
        "id": "jmhQbG2AyeKV"
      },
      "execution_count": null,
      "outputs": []
    },
    {
      "cell_type": "code",
      "source": [
        "def ChiSquareTest(df, comperativeColumn_result, category_columns = []):\n",
        "  df = df\n",
        "  hypothesis_df = comperativeColumn_result\n",
        "  #Chi-Square Test\n",
        "  if category_columns:\n",
        "    for i in range(len(category_columns) - 1):\n",
        "        column_1 = category_columns[i]\n",
        "        for column_2 in category_columns[i + 1:]:\n",
        "            data = pd.crosstab(df[column_1], df[column_2])\n",
        "            observed_values = data.values\n",
        "            chi2_stat, p_value, _, _ = stats.chi2_contingency(observed_values)\n",
        "\n",
        "            if p_value > 0.05:\n",
        "                # H0 is accepted, There is no relationship between two columns we're comparing\n",
        "                hypothesis_df[column_1][column_2] = \"There is no relationship\"\n",
        "                hypothesis_df[column_2][column_1] = \"There is no relationship\"\n",
        "            else:\n",
        "                # H0 is rejected, There is a relationship between two columns we're comparing\n",
        "                hypothesis_df[column_1][column_2] = \"There is a relationship\"\n",
        "                hypothesis_df[column_2][column_1] = \"There is a relationship\"\n",
        "  return hypothesis_df"
      ],
      "metadata": {
        "id": "1onmMzdrygZm"
      },
      "execution_count": null,
      "outputs": []
    },
    {
      "cell_type": "code",
      "source": [
        "def ANOVA(df, comperativeColumn_result, continuous_columns = [], category_columns = []):\n",
        "  df = df\n",
        "  hypothesis_df = comperativeColumn_result\n",
        "\n",
        "  #ANOVA\n",
        "  if continuous_columns and category_columns:\n",
        "    for category_column in category_columns:\n",
        "      for continuous_column in continuous_columns:\n",
        "        group = df[category_column].unique()\n",
        "        data = {}\n",
        "        for i in group:\n",
        "          data[i]=df[continuous_column][df[category_column]==i]\n",
        "\n",
        "        f_value, p_value = stats.f_oneway(*[data[i] for i in group])\n",
        "        if p_value > 0.05:\n",
        "            # H0 is accepted, There is a relationship between two columns we're comparing\n",
        "            hypothesis_df[category_column][continuous_column] = \"There is a relationship\"\n",
        "            hypothesis_df[continuous_column][category_column] = \"There is a relationship\"\n",
        "        else:\n",
        "            # H0 is rejected, There is no relationship between two columns we're comparing\n",
        "            hypothesis_df[category_column][continuous_column] = \"There is no relationship\"\n",
        "            hypothesis_df[continuous_column][category_column] = \"There is no relationship\"\n",
        "\n",
        "  return hypothesis_df"
      ],
      "metadata": {
        "id": "-gB47PrIyjQG"
      },
      "execution_count": null,
      "outputs": []
    },
    {
      "cell_type": "code",
      "source": [
        "ContinesColumn_result = CentralLimitTheorem(df, continuous_columns)"
      ],
      "metadata": {
        "id": "2SNWUbTBymR1"
      },
      "execution_count": null,
      "outputs": []
    },
    {
      "cell_type": "code",
      "source": [
        "ContinesColumn_result, comperativeColumn_result = OneTailTest(df, ContinesColumn_result, continuous_columns, sampling_rate = 0.02)"
      ],
      "metadata": {
        "id": "y6jyTLeNyojO"
      },
      "execution_count": null,
      "outputs": []
    },
    {
      "cell_type": "code",
      "source": [
        "comperativeColumn_result = TwoTailTest(df, comperativeColumn_result, continuous_columns, sampling_rate = 0.02)"
      ],
      "metadata": {
        "id": "AvB-wWg6yqNt"
      },
      "execution_count": null,
      "outputs": []
    },
    {
      "cell_type": "code",
      "source": [
        "comperativeColumn_result = ChiSquareTest(df, comperativeColumn_result, category_columns)"
      ],
      "metadata": {
        "id": "YYfd73-Byr8G"
      },
      "execution_count": null,
      "outputs": []
    },
    {
      "cell_type": "code",
      "source": [
        "comperativeColumn_result = ANOVA(df, comperativeColumn_result, continuous_columns, category_columns)"
      ],
      "metadata": {
        "id": "yNiXY0Ekytxm"
      },
      "execution_count": null,
      "outputs": []
    },
    {
      "cell_type": "markdown",
      "source": [
        "# **Result Hypothesis**"
      ],
      "metadata": {
        "id": "gU2a9gQSyyil"
      }
    },
    {
      "cell_type": "code",
      "source": [
        "ContinesColumn_result, comperativeColumn_result = hypothesisTesting(df, continuous_columns , category_columns)"
      ],
      "metadata": {
        "id": "mV12s60uyx7t"
      },
      "execution_count": null,
      "outputs": []
    },
    {
      "cell_type": "code",
      "source": [
        "ContinesColumn_result_df = pd.DataFrame(ContinesColumn_result)\n",
        "ContinesColumn_result_df"
      ],
      "metadata": {
        "id": "nx9UOPzcy2Bl"
      },
      "execution_count": null,
      "outputs": []
    },
    {
      "cell_type": "code",
      "source": [
        "comperativeColumn_result"
      ],
      "metadata": {
        "id": "WVnuAj0Ly5rF"
      },
      "execution_count": null,
      "outputs": []
    },
    {
      "cell_type": "code",
      "source": [
        "sns.heatmap(comperativeColumn_result == 'There is a relationship', annot=True, cmap='coolwarm')\n",
        "plt.title('Hypothesis Test Results')\n",
        "plt.show()"
      ],
      "metadata": {
        "id": "rdKo1Cc3y8St"
      },
      "execution_count": null,
      "outputs": []
    },
    {
      "cell_type": "code",
      "source": [
        "sns.set()\n",
        "comperativeColumn_result.fillna(3, inplace = True)\n",
        "comperativeColumn_result.replace({'There is a relationship': 0, 'There is no relationship': 1}, inplace=True)\n",
        "fig = px.imshow(comperativeColumn_result, color_continuous_scale='Viridis',\n",
        "                title=\"Correlation Matrix\")\n",
        "fig.show()"
      ],
      "metadata": {
        "id": "dba3D0dry_j1"
      },
      "execution_count": null,
      "outputs": []
    }
  ]
}